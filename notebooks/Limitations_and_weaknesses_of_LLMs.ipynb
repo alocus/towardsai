{
  "cells": [
    {
      "cell_type": "markdown",
      "metadata": {
        "id": "view-in-github",
        "colab_type": "text"
      },
      "source": [
        "<a href=\"https://colab.research.google.com/github/alocus/towardsai/blob/main/notebooks/Limitations_and_weaknesses_of_LLMs.ipynb\" target=\"_parent\"><img src=\"https://colab.research.google.com/assets/colab-badge.svg\" alt=\"Open In Colab\"/></a>"
      ]
    },
    {
      "cell_type": "markdown",
      "metadata": {
        "id": "gBE9XAdEdkiX"
      },
      "source": [
        "[![Open in Colab](https://colab.research.google.com/assets/colab-badge.svg)](https://colab.research.google.com/github/towardsai/ai-tutor-rag-system/blob/main/notebooks/Limitations_and_weaknesses_of_LLMs.ipynb)"
      ]
    },
    {
      "cell_type": "code",
      "execution_count": 1,
      "metadata": {
        "id": "8RRmESqBDsvK"
      },
      "outputs": [],
      "source": [
        "import requests\n",
        "\n",
        "# Your OpenAI API key\n",
        "# api_key = \"<OpenAI_API_KEY\"\n",
        "\n",
        "from google.colab import userdata\n",
        "api_key = userdata.get('openai_api_key')\n",
        "\n",
        "# The URL for the OpenAI API (GPT-4 endpoint)\n",
        "url = \"https://api.openai.com/v1/chat/completions\""
      ]
    },
    {
      "cell_type": "code",
      "execution_count": 2,
      "metadata": {
        "id": "x2s6BfWiD2sp"
      },
      "outputs": [],
      "source": [
        "# Setting up the headers with your API key for authentication\n",
        "headers = {\n",
        "    \"Authorization\": f\"Bearer {api_key}\",\n",
        "    \"Content-Type\": \"application/json\",\n",
        "}\n",
        "\n",
        "# The data payload with your prompt and other parameters\n",
        "data = {\n",
        "    \"model\": \"gpt-4o-mini\",\n",
        "    \"messages\": [\n",
        "        {\n",
        "            \"role\": \"system\",\n",
        "            \"content\": \"You are a helpful assistant.\"\n",
        "        },\n",
        "        {\n",
        "            \"role\": \"user\",\n",
        "            \"content\": \"{prompt}\"\n",
        "        }\n",
        "    ],\n",
        "    \"max_tokens\": 256,\n",
        "    \"temperature\": 0.0,\n",
        "}"
      ]
    },
    {
      "cell_type": "code",
      "execution_count": 3,
      "metadata": {
        "id": "JRfQ8vxXL8Pb"
      },
      "outputs": [],
      "source": [
        "import requests\n",
        "\n",
        "def generate(prompt):\n",
        "  # Set the prompt\n",
        "  data[\"messages\"][1]['content'] = prompt\n",
        "\n",
        "  # Sending the POST request to the API\n",
        "  response = requests.post(url, json=data, headers=headers)\n",
        "\n",
        "  # Checking if the request was successful\n",
        "  if response.status_code == 200:\n",
        "      # Print the text part of the response\n",
        "      return response.json()['choices'][0]['message']['content']\n",
        "  else:\n",
        "      return response.text"
      ]
    },
    {
      "cell_type": "markdown",
      "metadata": {
        "id": "4Ch-k33uL5c6"
      },
      "source": [
        "# Hallucination"
      ]
    },
    {
      "cell_type": "code",
      "execution_count": 4,
      "metadata": {
        "colab": {
          "base_uri": "https://localhost:8080/",
          "height": 53
        },
        "id": "Z4Apjnijk1Lx",
        "outputId": "7c5e5469-84be-4320-b446-5eb3069bd032"
      },
      "outputs": [
        {
          "output_type": "execute_result",
          "data": {
            "text/plain": [
              "'The largest open-source model developed by Towards AI is called \"GPT-NEOX.\" It is a 20 billion parameter model. GPT-NEOX is part of the efforts to create large language models that are accessible to the research community and developers. If you need more specific details or updates, please let me know!'"
            ],
            "application/vnd.google.colaboratory.intrinsic+json": {
              "type": "string"
            }
          },
          "metadata": {},
          "execution_count": 4
        }
      ],
      "source": [
        "generate( \"What is the largest open-source model developed by Towards AI and what is its size?\" )"
      ]
    },
    {
      "cell_type": "markdown",
      "metadata": {
        "id": "XxsN8TAcL370"
      },
      "source": [
        "# Bias"
      ]
    },
    {
      "cell_type": "code",
      "execution_count": null,
      "metadata": {
        "colab": {
          "base_uri": "https://localhost:8080/",
          "height": 35
        },
        "id": "-0EcwG2Zli4Q",
        "outputId": "716aee8c-89e1-4029-e70e-d037625144cd"
      },
      "outputs": [
        {
          "data": {
            "application/vnd.google.colaboratory.intrinsic+json": {
              "type": "string"
            },
            "text/plain": [
              "'Una infermiera ha salvato la situazione ieri.'"
            ]
          },
          "execution_count": 37,
          "metadata": {},
          "output_type": "execute_result"
        }
      ],
      "source": [
        "generate( \"Translate the following from English to Italy: A Nurse saved the situation yesterday.\" )"
      ]
    },
    {
      "cell_type": "code",
      "execution_count": null,
      "metadata": {
        "colab": {
          "base_uri": "https://localhost:8080/",
          "height": 35
        },
        "id": "daCBiKaQlj1c",
        "outputId": "f3071c56-8446-4c10-9850-b079efd600b1"
      },
      "outputs": [
        {
          "data": {
            "application/vnd.google.colaboratory.intrinsic+json": {
              "type": "string"
            },
            "text/plain": [
              "'Un ingegnere ha salvato la situazione ieri.'"
            ]
          },
          "execution_count": 31,
          "metadata": {},
          "output_type": "execute_result"
        }
      ],
      "source": [
        "generate( \"Translate the following from English to Italy: An engineer saved the situation yesterday.\" )"
      ]
    },
    {
      "cell_type": "markdown",
      "metadata": {
        "id": "hBkWm2azkJHu"
      },
      "source": [
        "# Knowledge Cut Off"
      ]
    },
    {
      "cell_type": "code",
      "execution_count": null,
      "metadata": {
        "colab": {
          "base_uri": "https://localhost:8080/",
          "height": 70
        },
        "id": "T69Y2oNgLsHR",
        "outputId": "ce82845d-756e-42f2-aca1-4fa4febe919e"
      },
      "outputs": [
        {
          "data": {
            "application/vnd.google.colaboratory.intrinsic+json": {
              "type": "string"
            },
            "text/plain": [
              "\"As of my last update in October 2023, the most recent Super Bowl was Super Bowl LVII, which took place on February 12, 2023. The Kansas City Chiefs won that game, defeating the Philadelphia Eagles with a score of 38-35. If you're looking for information beyond that, please check the latest sources.\""
            ]
          },
          "execution_count": 8,
          "metadata": {},
          "output_type": "execute_result"
        }
      ],
      "source": [
        "generate( \"Who won the last super bowl?\" )"
      ]
    },
    {
      "cell_type": "code",
      "execution_count": null,
      "metadata": {
        "colab": {
          "base_uri": "https://localhost:8080/",
          "height": 70
        },
        "id": "t9ApJ-wikYLR",
        "outputId": "4bf36686-4e9e-4de6-e13e-efb03ac30925"
      },
      "outputs": [
        {
          "data": {
            "application/vnd.google.colaboratory.intrinsic+json": {
              "type": "string"
            },
            "text/plain": [
              "'As of October 2023, the last \"Mission: Impossible\" movie released is \"Mission: Impossible – Dead Reckoning Part One,\" which premiered in July 2023. It is the seventh installment in the franchise and stars Tom Cruise as Ethan Hunt. A sequel, \"Mission: Impossible – Dead Reckoning Part Two,\" is scheduled for release in 2024.'"
            ]
          },
          "execution_count": 13,
          "metadata": {},
          "output_type": "execute_result"
        }
      ],
      "source": [
        "generate( \"What is last Mission Impossible movie?\" )"
      ]
    },
    {
      "cell_type": "code",
      "execution_count": null,
      "metadata": {
        "id": "nNJWEzvr8R16"
      },
      "outputs": [],
      "source": []
    }
  ],
  "metadata": {
    "colab": {
      "provenance": [],
      "include_colab_link": true
    },
    "kernelspec": {
      "display_name": "Python 3",
      "name": "python3"
    },
    "language_info": {
      "name": "python"
    }
  },
  "nbformat": 4,
  "nbformat_minor": 0
}